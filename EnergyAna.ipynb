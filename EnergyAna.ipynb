{
 "cells": [
  {
   "cell_type": "markdown",
   "metadata": {},
   "source": [
    "In the following I am just taking a very simple dataset to analyse a number of trends related to energy consumption and trade all over the world. I will be creating a few graphs to observe some of the trends, and maybe find out some insights. "
   ]
  },
  {
   "cell_type": "code",
   "execution_count": 3,
   "metadata": {
    "collapsed": true
   },
   "outputs": [],
   "source": [
    "import math\n",
    "import numpy as np\n",
    "import pandas as pd\n",
    "import matplotlib.pyplot as plt"
   ]
  },
  {
   "cell_type": "code",
   "execution_count": 4,
   "metadata": {},
   "outputs": [
    {
     "data": {
      "text/html": [
       "<div>\n",
       "<style>\n",
       "    .dataframe thead tr:only-child th {\n",
       "        text-align: right;\n",
       "    }\n",
       "\n",
       "    .dataframe thead th {\n",
       "        text-align: left;\n",
       "    }\n",
       "\n",
       "    .dataframe tbody tr th {\n",
       "        vertical-align: top;\n",
       "    }\n",
       "</style>\n",
       "<table border=\"1\" class=\"dataframe\">\n",
       "  <thead>\n",
       "    <tr style=\"text-align: right;\">\n",
       "      <th></th>\n",
       "      <th>country_or_area</th>\n",
       "      <th>commodity_transaction</th>\n",
       "      <th>year</th>\n",
       "      <th>unit</th>\n",
       "      <th>quantity</th>\n",
       "      <th>quantity_footnotes</th>\n",
       "      <th>category</th>\n",
       "    </tr>\n",
       "  </thead>\n",
       "  <tbody>\n",
       "    <tr>\n",
       "      <th>0</th>\n",
       "      <td>Austria</td>\n",
       "      <td>Additives and Oxygenates - Exports</td>\n",
       "      <td>1996</td>\n",
       "      <td>Metric tons,  thousand</td>\n",
       "      <td>5.0</td>\n",
       "      <td>NaN</td>\n",
       "      <td>additives_and_oxygenates</td>\n",
       "    </tr>\n",
       "    <tr>\n",
       "      <th>1</th>\n",
       "      <td>Austria</td>\n",
       "      <td>Additives and Oxygenates - Exports</td>\n",
       "      <td>1995</td>\n",
       "      <td>Metric tons,  thousand</td>\n",
       "      <td>17.0</td>\n",
       "      <td>NaN</td>\n",
       "      <td>additives_and_oxygenates</td>\n",
       "    </tr>\n",
       "    <tr>\n",
       "      <th>2</th>\n",
       "      <td>Belgium</td>\n",
       "      <td>Additives and Oxygenates - Exports</td>\n",
       "      <td>2014</td>\n",
       "      <td>Metric tons,  thousand</td>\n",
       "      <td>0.0</td>\n",
       "      <td>NaN</td>\n",
       "      <td>additives_and_oxygenates</td>\n",
       "    </tr>\n",
       "    <tr>\n",
       "      <th>3</th>\n",
       "      <td>Belgium</td>\n",
       "      <td>Additives and Oxygenates - Exports</td>\n",
       "      <td>2013</td>\n",
       "      <td>Metric tons,  thousand</td>\n",
       "      <td>0.0</td>\n",
       "      <td>NaN</td>\n",
       "      <td>additives_and_oxygenates</td>\n",
       "    </tr>\n",
       "    <tr>\n",
       "      <th>4</th>\n",
       "      <td>Belgium</td>\n",
       "      <td>Additives and Oxygenates - Exports</td>\n",
       "      <td>2012</td>\n",
       "      <td>Metric tons,  thousand</td>\n",
       "      <td>35.0</td>\n",
       "      <td>NaN</td>\n",
       "      <td>additives_and_oxygenates</td>\n",
       "    </tr>\n",
       "  </tbody>\n",
       "</table>\n",
       "</div>"
      ],
      "text/plain": [
       "  country_or_area               commodity_transaction  year  \\\n",
       "0         Austria  Additives and Oxygenates - Exports  1996   \n",
       "1         Austria  Additives and Oxygenates - Exports  1995   \n",
       "2         Belgium  Additives and Oxygenates - Exports  2014   \n",
       "3         Belgium  Additives and Oxygenates - Exports  2013   \n",
       "4         Belgium  Additives and Oxygenates - Exports  2012   \n",
       "\n",
       "                     unit  quantity  quantity_footnotes  \\\n",
       "0  Metric tons,  thousand       5.0                 NaN   \n",
       "1  Metric tons,  thousand      17.0                 NaN   \n",
       "2  Metric tons,  thousand       0.0                 NaN   \n",
       "3  Metric tons,  thousand       0.0                 NaN   \n",
       "4  Metric tons,  thousand      35.0                 NaN   \n",
       "\n",
       "                   category  \n",
       "0  additives_and_oxygenates  \n",
       "1  additives_and_oxygenates  \n",
       "2  additives_and_oxygenates  \n",
       "3  additives_and_oxygenates  \n",
       "4  additives_and_oxygenates  "
      ]
     },
     "execution_count": 4,
     "metadata": {},
     "output_type": "execute_result"
    }
   ],
   "source": [
    "df = pd.read_csv(\"_all_energy_statistics 2.csv\")\n",
    "\n",
    "df.head()"
   ]
  },
  {
   "cell_type": "code",
   "execution_count": 23,
   "metadata": {},
   "outputs": [
    {
     "data": {
      "text/html": [
       "<div>\n",
       "<style>\n",
       "    .dataframe thead tr:only-child th {\n",
       "        text-align: right;\n",
       "    }\n",
       "\n",
       "    .dataframe thead th {\n",
       "        text-align: left;\n",
       "    }\n",
       "\n",
       "    .dataframe tbody tr th {\n",
       "        vertical-align: top;\n",
       "    }\n",
       "</style>\n",
       "<table border=\"1\" class=\"dataframe\">\n",
       "  <thead>\n",
       "    <tr style=\"text-align: right;\">\n",
       "      <th></th>\n",
       "      <th>count</th>\n",
       "      <th>mean</th>\n",
       "      <th>std</th>\n",
       "      <th>min</th>\n",
       "      <th>25%</th>\n",
       "      <th>50%</th>\n",
       "      <th>75%</th>\n",
       "      <th>max</th>\n",
       "    </tr>\n",
       "  </thead>\n",
       "  <tbody>\n",
       "    <tr>\n",
       "      <th>year</th>\n",
       "      <td>1189482.0</td>\n",
       "      <td>2002.851554</td>\n",
       "      <td>7.167345e+00</td>\n",
       "      <td>1990.0</td>\n",
       "      <td>1997.0</td>\n",
       "      <td>2003.0</td>\n",
       "      <td>2009.0</td>\n",
       "      <td>2.014000e+03</td>\n",
       "    </tr>\n",
       "    <tr>\n",
       "      <th>quantity</th>\n",
       "      <td>1189482.0</td>\n",
       "      <td>184264.770050</td>\n",
       "      <td>1.585663e+07</td>\n",
       "      <td>-864348.0</td>\n",
       "      <td>14.0</td>\n",
       "      <td>189.0</td>\n",
       "      <td>2265.0</td>\n",
       "      <td>6.680329e+09</td>\n",
       "    </tr>\n",
       "    <tr>\n",
       "      <th>quantity_footnotes</th>\n",
       "      <td>163946.0</td>\n",
       "      <td>1.000000</td>\n",
       "      <td>0.000000e+00</td>\n",
       "      <td>1.0</td>\n",
       "      <td>1.0</td>\n",
       "      <td>1.0</td>\n",
       "      <td>1.0</td>\n",
       "      <td>1.000000e+00</td>\n",
       "    </tr>\n",
       "  </tbody>\n",
       "</table>\n",
       "</div>"
      ],
      "text/plain": [
       "                        count           mean           std       min     25%  \\\n",
       "year                1189482.0    2002.851554  7.167345e+00    1990.0  1997.0   \n",
       "quantity            1189482.0  184264.770050  1.585663e+07 -864348.0    14.0   \n",
       "quantity_footnotes   163946.0       1.000000  0.000000e+00       1.0     1.0   \n",
       "\n",
       "                       50%     75%           max  \n",
       "year                2003.0  2009.0  2.014000e+03  \n",
       "quantity             189.0  2265.0  6.680329e+09  \n",
       "quantity_footnotes     1.0     1.0  1.000000e+00  "
      ]
     },
     "execution_count": 23,
     "metadata": {},
     "output_type": "execute_result"
    }
   ],
   "source": [
    "df.describe().T"
   ]
  },
  {
   "cell_type": "code",
   "execution_count": 6,
   "metadata": {},
   "outputs": [
    {
     "name": "stdout",
     "output_type": "stream",
     "text": [
      "<class 'pandas.core.frame.DataFrame'>\n",
      "RangeIndex: 1189482 entries, 0 to 1189481\n",
      "Data columns (total 7 columns):\n",
      "country_or_area          1189482 non-null object\n",
      "commodity_transaction    1189482 non-null object\n",
      "year                     1189482 non-null int64\n",
      "unit                     1189482 non-null object\n",
      "quantity                 1189482 non-null float64\n",
      "quantity_footnotes       163946 non-null float64\n",
      "category                 1189482 non-null object\n",
      "dtypes: float64(2), int64(1), object(4)\n",
      "memory usage: 63.5+ MB\n"
     ]
    }
   ],
   "source": [
    "df.info()"
   ]
  },
  {
   "cell_type": "code",
   "execution_count": 7,
   "metadata": {},
   "outputs": [
    {
     "data": {
      "text/html": [
       "<div>\n",
       "<style>\n",
       "    .dataframe thead tr:only-child th {\n",
       "        text-align: right;\n",
       "    }\n",
       "\n",
       "    .dataframe thead th {\n",
       "        text-align: left;\n",
       "    }\n",
       "\n",
       "    .dataframe tbody tr th {\n",
       "        vertical-align: top;\n",
       "    }\n",
       "</style>\n",
       "<table border=\"1\" class=\"dataframe\">\n",
       "  <thead>\n",
       "    <tr style=\"text-align: right;\">\n",
       "      <th></th>\n",
       "      <th>country_or_area</th>\n",
       "      <th>quantity</th>\n",
       "    </tr>\n",
       "  </thead>\n",
       "  <tbody>\n",
       "    <tr>\n",
       "      <th>0</th>\n",
       "      <td>Afghanistan</td>\n",
       "      <td>14851.419961</td>\n",
       "    </tr>\n",
       "    <tr>\n",
       "      <th>1</th>\n",
       "      <td>Albania</td>\n",
       "      <td>4070.610624</td>\n",
       "    </tr>\n",
       "    <tr>\n",
       "      <th>2</th>\n",
       "      <td>Algeria</td>\n",
       "      <td>378028.739991</td>\n",
       "    </tr>\n",
       "    <tr>\n",
       "      <th>3</th>\n",
       "      <td>American Samoa</td>\n",
       "      <td>80.477658</td>\n",
       "    </tr>\n",
       "    <tr>\n",
       "      <th>4</th>\n",
       "      <td>Andorra</td>\n",
       "      <td>56.012547</td>\n",
       "    </tr>\n",
       "  </tbody>\n",
       "</table>\n",
       "</div>"
      ],
      "text/plain": [
       "  country_or_area       quantity\n",
       "0     Afghanistan   14851.419961\n",
       "1         Albania    4070.610624\n",
       "2         Algeria  378028.739991\n",
       "3  American Samoa      80.477658\n",
       "4         Andorra      56.012547"
      ]
     },
     "execution_count": 7,
     "metadata": {},
     "output_type": "execute_result"
    }
   ],
   "source": [
    "df_country=df[['country_or_area', 'quantity']].copy()\n",
    "df_country = df_country.groupby(['country_or_area'], as_index=False)['quantity'].mean()\n",
    "df_country.head()"
   ]
  },
  {
   "cell_type": "code",
   "execution_count": 8,
   "metadata": {},
   "outputs": [
    {
     "data": {
      "text/html": [
       "<div>\n",
       "<style>\n",
       "    .dataframe thead tr:only-child th {\n",
       "        text-align: right;\n",
       "    }\n",
       "\n",
       "    .dataframe thead th {\n",
       "        text-align: left;\n",
       "    }\n",
       "\n",
       "    .dataframe tbody tr th {\n",
       "        vertical-align: top;\n",
       "    }\n",
       "</style>\n",
       "<table border=\"1\" class=\"dataframe\">\n",
       "  <thead>\n",
       "    <tr style=\"text-align: right;\">\n",
       "      <th></th>\n",
       "      <th>country_or_area</th>\n",
       "      <th>quantity</th>\n",
       "    </tr>\n",
       "  </thead>\n",
       "  <tbody>\n",
       "    <tr>\n",
       "      <th>223</th>\n",
       "      <td>USSR (former)</td>\n",
       "      <td>4.040380e+07</td>\n",
       "    </tr>\n",
       "    <tr>\n",
       "      <th>177</th>\n",
       "      <td>Russian Federation</td>\n",
       "      <td>2.886192e+06</td>\n",
       "    </tr>\n",
       "    <tr>\n",
       "      <th>84</th>\n",
       "      <td>Germany, Fed. R. (former)</td>\n",
       "      <td>2.265316e+06</td>\n",
       "    </tr>\n",
       "    <tr>\n",
       "      <th>229</th>\n",
       "      <td>United States</td>\n",
       "      <td>2.178334e+06</td>\n",
       "    </tr>\n",
       "    <tr>\n",
       "      <th>174</th>\n",
       "      <td>Qatar</td>\n",
       "      <td>1.714711e+06</td>\n",
       "    </tr>\n",
       "  </tbody>\n",
       "</table>\n",
       "</div>"
      ],
      "text/plain": [
       "               country_or_area      quantity\n",
       "223              USSR (former)  4.040380e+07\n",
       "177         Russian Federation  2.886192e+06\n",
       "84   Germany, Fed. R. (former)  2.265316e+06\n",
       "229              United States  2.178334e+06\n",
       "174                      Qatar  1.714711e+06"
      ]
     },
     "execution_count": 8,
     "metadata": {},
     "output_type": "execute_result"
    }
   ],
   "source": [
    "\n",
    "df_sorted = df_country.iloc[df_country.quantity.argsort()[::-1]]\n",
    "df_sorted.head()\n"
   ]
  },
  {
   "cell_type": "code",
   "execution_count": 9,
   "metadata": {},
   "outputs": [
    {
     "data": {
      "image/png": "[encoded data removed]",
      "text/plain": [
       "<matplotlib.figure.Figure at 0x10bbcf0b8>"
      ]
     },
     "metadata": {},
     "output_type": "display_data"
    }
   ],
   "source": [
    "plt.bar(df_sorted.iloc[0:20,0], df_sorted.iloc[0:20,1], color='green')\n",
    "plt.xticks(rotation='vertical')\n",
    "plt.show()"
   ]
  },
  {
   "cell_type": "markdown",
   "metadata": {},
   "source": [
    "The former USSR is an anomoly and is offsetting all the data. To look into it further, first I will remove that data point, to look at the rest of the data."
   ]
  },
  {
   "cell_type": "code",
   "execution_count": 10,
   "metadata": {},
   "outputs": [
    {
     "data": {
      "image/png": "[encoded data removed]",
      "text/plain": [
       "<matplotlib.figure.Figure at 0x10aa3e6a0>"
      ]
     },
     "metadata": {},
     "output_type": "display_data"
    }
   ],
   "source": [
    "df_sorted = df_sorted.drop([223])\n",
    "plt.bar(df_sorted.iloc[0:20,0], df_sorted.iloc[0:20,1], color='green')\n",
    "plt.xticks(rotation='vertical')\n",
    "plt.show()"
   ]
  },
  {
   "cell_type": "markdown",
   "metadata": {},
   "source": [
    "Clearly, all other states are relatively proportional. Let's look into the USSR"
   ]
  },
  {
   "cell_type": "code",
   "execution_count": 26,
   "metadata": {},
   "outputs": [
    {
     "data": {
      "text/html": [
       "<div>\n",
       "<style>\n",
       "    .dataframe thead tr:only-child th {\n",
       "        text-align: right;\n",
       "    }\n",
       "\n",
       "    .dataframe thead th {\n",
       "        text-align: left;\n",
       "    }\n",
       "\n",
       "    .dataframe tbody tr th {\n",
       "        vertical-align: top;\n",
       "    }\n",
       "</style>\n",
       "<table border=\"1\" class=\"dataframe\">\n",
       "  <thead>\n",
       "    <tr style=\"text-align: right;\">\n",
       "      <th></th>\n",
       "      <th>country_or_area</th>\n",
       "      <th>commodity_transaction</th>\n",
       "      <th>year</th>\n",
       "      <th>unit</th>\n",
       "      <th>quantity</th>\n",
       "      <th>quantity_footnotes</th>\n",
       "      <th>category</th>\n",
       "    </tr>\n",
       "  </thead>\n",
       "  <tbody>\n",
       "    <tr>\n",
       "      <th>14895</th>\n",
       "      <td>USSR (former)</td>\n",
       "      <td>Aviation gasoline - Exports</td>\n",
       "      <td>1991</td>\n",
       "      <td>Metric tons,  thousand</td>\n",
       "      <td>1.0</td>\n",
       "      <td>NaN</td>\n",
       "      <td>aviation_gasoline</td>\n",
       "    </tr>\n",
       "    <tr>\n",
       "      <th>14896</th>\n",
       "      <td>USSR (former)</td>\n",
       "      <td>Aviation gasoline - Exports</td>\n",
       "      <td>1990</td>\n",
       "      <td>Metric tons,  thousand</td>\n",
       "      <td>34.0</td>\n",
       "      <td>NaN</td>\n",
       "      <td>aviation_gasoline</td>\n",
       "    </tr>\n",
       "    <tr>\n",
       "      <th>23419</th>\n",
       "      <td>USSR (former)</td>\n",
       "      <td>Aviation gasoline - Production</td>\n",
       "      <td>1991</td>\n",
       "      <td>Metric tons,  thousand</td>\n",
       "      <td>380.0</td>\n",
       "      <td>NaN</td>\n",
       "      <td>aviation_gasoline</td>\n",
       "    </tr>\n",
       "    <tr>\n",
       "      <th>23420</th>\n",
       "      <td>USSR (former)</td>\n",
       "      <td>Aviation gasoline - Production</td>\n",
       "      <td>1990</td>\n",
       "      <td>Metric tons,  thousand</td>\n",
       "      <td>451.0</td>\n",
       "      <td>NaN</td>\n",
       "      <td>aviation_gasoline</td>\n",
       "    </tr>\n",
       "    <tr>\n",
       "      <th>24182</th>\n",
       "      <td>USSR (former)</td>\n",
       "      <td>Aviation gasoline - production from refineries</td>\n",
       "      <td>1991</td>\n",
       "      <td>Metric tons,  thousand</td>\n",
       "      <td>380.0</td>\n",
       "      <td>NaN</td>\n",
       "      <td>aviation_gasoline</td>\n",
       "    </tr>\n",
       "  </tbody>\n",
       "</table>\n",
       "</div>"
      ],
      "text/plain": [
       "      country_or_area                           commodity_transaction  year  \\\n",
       "14895   USSR (former)                     Aviation gasoline - Exports  1991   \n",
       "14896   USSR (former)                     Aviation gasoline - Exports  1990   \n",
       "23419   USSR (former)                  Aviation gasoline - Production  1991   \n",
       "23420   USSR (former)                  Aviation gasoline - Production  1990   \n",
       "24182   USSR (former)  Aviation gasoline - production from refineries  1991   \n",
       "\n",
       "                         unit  quantity  quantity_footnotes           category  \n",
       "14895  Metric tons,  thousand       1.0                 NaN  aviation_gasoline  \n",
       "14896  Metric tons,  thousand      34.0                 NaN  aviation_gasoline  \n",
       "23419  Metric tons,  thousand     380.0                 NaN  aviation_gasoline  \n",
       "23420  Metric tons,  thousand     451.0                 NaN  aviation_gasoline  \n",
       "24182  Metric tons,  thousand     380.0                 NaN  aviation_gasoline  "
      ]
     },
     "execution_count": 26,
     "metadata": {},
     "output_type": "execute_result"
    }
   ],
   "source": [
    "df_USSR = df[df['country_or_area'] == 'USSR (former)']\n",
    "df_USSR.head()\n",
    "df_USSRyear = df_USSR.groupby(['year'],as_index=False)['quantity'].sum()\n",
    "\n",
    "df_USSR.head()\n"
   ]
  },
  {
   "cell_type": "code",
   "execution_count": 29,
   "metadata": {},
   "outputs": [
    {
     "data": {
      "text/html": [
       "<div>\n",
       "<style>\n",
       "    .dataframe thead tr:only-child th {\n",
       "        text-align: right;\n",
       "    }\n",
       "\n",
       "    .dataframe thead th {\n",
       "        text-align: left;\n",
       "    }\n",
       "\n",
       "    .dataframe tbody tr th {\n",
       "        vertical-align: top;\n",
       "    }\n",
       "</style>\n",
       "<table border=\"1\" class=\"dataframe\">\n",
       "  <thead>\n",
       "    <tr style=\"text-align: right;\">\n",
       "      <th></th>\n",
       "      <th>year</th>\n",
       "      <th>quantity</th>\n",
       "    </tr>\n",
       "  </thead>\n",
       "  <tbody>\n",
       "    <tr>\n",
       "      <th>0</th>\n",
       "      <td>1990</td>\n",
       "      <td>1.359064e+10</td>\n",
       "    </tr>\n",
       "    <tr>\n",
       "      <th>1</th>\n",
       "      <td>1991</td>\n",
       "      <td>5.506899e+08</td>\n",
       "    </tr>\n",
       "  </tbody>\n",
       "</table>\n",
       "</div>"
      ],
      "text/plain": [
       "   year      quantity\n",
       "0  1990  1.359064e+10\n",
       "1  1991  5.506899e+08"
      ]
     },
     "execution_count": 29,
     "metadata": {},
     "output_type": "execute_result"
    }
   ],
   "source": [
    "df_USSRyear.head()\n"
   ]
  },
  {
   "cell_type": "code",
   "execution_count": 35,
   "metadata": {},
   "outputs": [
    {
     "data": {
      "image/png": "[encoded data removed]",
      "text/plain": [
       "<matplotlib.figure.Figure at 0x112ea8978>"
      ]
     },
     "metadata": {},
     "output_type": "display_data"
    }
   ],
   "source": [
    "plt.bar(df_USSRyear['year'], df_USSRyear['quantity'],color='green')\n",
    "plt.show()"
   ]
  },
  {
   "cell_type": "markdown",
   "metadata": {},
   "source": [
    "Not too much of a difference in terms of overall energy usage in both years. (Btw, really suprising that the usage is within two years and yet so much higher than all the rest) "
   ]
  },
  {
   "cell_type": "code",
   "execution_count": 14,
   "metadata": {},
   "outputs": [
    {
     "data": {
      "text/plain": [
       "commodity_transaction\n",
       "Aviation gasoline - Exports                        35.0\n",
       "Aviation gasoline - Production                    831.0\n",
       "Aviation gasoline - Total energy supply           796.0\n",
       "Aviation gasoline - production from refineries    831.0\n",
       "Bitumen - Exports                                 168.0\n",
       "Name: quantity, dtype: float64"
      ]
     },
     "execution_count": 14,
     "metadata": {},
     "output_type": "execute_result"
    }
   ],
   "source": [
    "df_USSRcomm = df_USSR.groupby(['commodity_transaction'])['quantity'].sum()\n",
    "df_USSRcomm.head()"
   ]
  },
  {
   "cell_type": "markdown",
   "metadata": {},
   "source": [
    "That makes sense, since both high values have to do with production. Though, that does mean that the previous results were wrong, since some of it is export, and some is production. I need to either use RegEx or NLPK to analyse this column and separate the data according to transactions. Just want to do one last test."
   ]
  },
  {
   "cell_type": "code",
   "execution_count": 15,
   "metadata": {},
   "outputs": [],
   "source": [
    "df_USSRcat = df_USSR.groupby(['category'])['quantity'].sum()\n",
    "\n"
   ]
  },
  {
   "cell_type": "markdown",
   "metadata": {},
   "source": [
    "Highest energy category is in brown_coal, though it is unknown whether it is a production, export or somethin else. "
   ]
  },
  {
   "cell_type": "code",
   "execution_count": 16,
   "metadata": {},
   "outputs": [
    {
     "data": {
      "text/plain": [
       "From combustible fuels – Main activity                                           4\n",
       "Petroleum coke - Total energy supply                                             2\n",
       "Natural gas (including LNG) - imports                                            2\n",
       "Heat - Own use by electricity, CHP and heat plants                               2\n",
       "Bitumen - Imports                                                                2\n",
       "Electricity - total thermal production                                           2\n",
       "Geothermal – Main activity                                                       2\n",
       "Lubricants - Exports                                                             2\n",
       "Peat (for fuel use) - Total energy supply                                        2\n",
       "Gas Oil/ Diesel Oil - Total energy supply                                        2\n",
       "Brown coal briquettes - exports                                                  2\n",
       "Petroleum coke - Production                                                      2\n",
       "Patent fuel - production                                                         2\n",
       "Crude petroleum - reserves from oil shale                                        2\n",
       "Peat (for fuel use) - total resources in place                                   2\n",
       "Electricity - net installed capacity of electric power plants, public nuclear    2\n",
       "Other kerosene - Production                                                      2\n",
       "Peat - exports                                                                   2\n",
       "Aviation gasoline - Exports                                                      2\n",
       "Peat - production                                                                2\n",
       "Conventional crude oil - production                                              2\n",
       "Petroleum coke - production from refineries                                      2\n",
       "Liquefied petroleum gas (LPG) - Production                                       2\n",
       "Gas Oil/ Diesel Oil - Imports                                                    2\n",
       "Electricity - net installed capacity of electric power plants, public hydro      2\n",
       "Electricity - total production, autoproducer                                     2\n",
       "Electricity - total production, main activity                                    2\n",
       "Refinery gas - Production from refineries                                        2\n",
       "Natural gas liquids - Transfers and recycled products                            2\n",
       "Heat - Gross demand                                                              2\n",
       "                                                                                ..\n",
       "Refinery gas - Losses                                                            1\n",
       "Peat - transformation in electricity, CHP and heat plants                        1\n",
       "Coke Oven Gas - Final consumption                                                1\n",
       "Natural gas (including LNG) - non-energy uses                                    1\n",
       "Natural gas (including LNG) - total resources                                    1\n",
       "Refinery gas - Final consumption                                                 1\n",
       "Gas Oil/ Diesel Oil - Transfers and recycled products                            1\n",
       "Natural gas (including LNG) - final consumption                                  1\n",
       "Peat - transformation                                                            1\n",
       "Refinery gas - Non-energy uses                                                   1\n",
       "Coal - recoverable reserves                                                      1\n",
       "Brown coal briquettes - stock changes                                            1\n",
       "Coal - total resources in place                                                  1\n",
       "Gas Oil/ Diesel Oil - Losses                                                     1\n",
       "Coke Oven Gas - Non-energy uses                                                  1\n",
       "Peat - transformation in briquetting plants                                      1\n",
       "Lignite brown coal - additional resources                                        1\n",
       "Lignite brown coal- recoverable resources                                        1\n",
       "Coal - additional resources                                                      1\n",
       "Patent fuel - stock changes                                                      1\n",
       "Motor Gasoline - Transfers and recycled products                                 1\n",
       "Gas Oil/ Diesel Oil - Stock changes                                              1\n",
       "Gas Oil/ Diesel Oil - Final consumption                                          1\n",
       "Falling water - total hydraulic resources                                        1\n",
       "Natural gas (including LNG) - losses                                             1\n",
       "Motor Gasoline - Losses                                                          1\n",
       "Natural gas (including LNG) - stock changes                                      1\n",
       "Gas Oil/ Diesel Oil - Non-energy uses                                            1\n",
       "Motor Gasoline - Stock changes                                                   1\n",
       "Brown coal - changes in stocks                                                   1\n",
       "Name: commodity_transaction, Length: 190, dtype: int64"
      ]
     },
     "execution_count": 16,
     "metadata": {},
     "output_type": "execute_result"
    }
   ],
   "source": [
    "df_USSR['commodity_transaction'].value_counts()"
   ]
  },
  {
   "cell_type": "code",
   "execution_count": 19,
   "metadata": {},
   "outputs": [
    {
     "data": {
      "text/plain": [
       "From combustible fuels – Main activity                 50\n",
       "From combustible fuels – Main activity – CHP plants    50\n",
       "From combustible fuels – Autoproducer – CHP plants     35\n",
       "From combustible fuels – Autoproducer                  35\n",
       "Natural gas liquids - Production                       25\n",
       "Name: commodity_transaction, dtype: int64"
      ]
     },
     "execution_count": 19,
     "metadata": {},
     "output_type": "execute_result"
    }
   ],
   "source": [
    "df_US = df[df['country_or_area'] == 'United States']\n",
    "df_US['commodity_transaction'].value_counts().head()"
   ]
  },
  {
   "cell_type": "code",
   "execution_count": 21,
   "metadata": {},
   "outputs": [
    {
     "data": {
      "text/plain": [
       "total_electricity                                              1512\n",
       "natural_gas_including_lng                                      1077\n",
       "gas_oil_diesel_oil                                              914\n",
       "hard_coal                                                       852\n",
       "other_bituminous_coal                                           800\n",
       "fuel_oil                                                        781\n",
       "liquified_petroleum_gas                                         689\n",
       "electricity_net_installed_capacity_of_electric_power_plants     679\n",
       "brown_coal                                                      672\n",
       "heat                                                            658\n",
       "sub_bituminous_coal                                             618\n",
       "motor_gasoline                                                  551\n",
       "lignite                                                         479\n",
       "other_kerosene                                                  430\n",
       "industrial_waste                                                399\n",
       "petroleum_coke                                                  385\n",
       "kerosene_type_jet_fuel                                          371\n",
       "biogases                                                        350\n",
       "other_oil_products_n_e_c                                        327\n",
       "municipal_wastes                                                311\n",
       "coke_oven_coke                                                  304\n",
       "blast_furnace_gas                                               297\n",
       "anthracite                                                      287\n",
       "natural_gas_liquids                                             273\n",
       "conventional_crude_oil                                          270\n",
       "animal_waste                                                    269\n",
       "bitumen                                                         256\n",
       "lubricants                                                      253\n",
       "other_vegetal_material_and_residues                             250\n",
       "paraffin_waxes                                                  248\n",
       "                                                               ... \n",
       "refinery_gas                                                    227\n",
       "biogasoline                                                     210\n",
       "white_spirit_and_special_boiling_point_industrial_spirits       206\n",
       "naphtha                                                         203\n",
       "charcoal                                                        200\n",
       "biodiesel                                                       193\n",
       "of_which_biodiesel                                              176\n",
       "other_liquid_biofuels                                           173\n",
       "coking_coal                                                     172\n",
       "additives_and_oxygenates                                        168\n",
       "black_liquor                                                    168\n",
       "of_which_biogasoline                                            166\n",
       "refinery_feedstocks                                             152\n",
       "bagasse                                                         150\n",
       "other_hydrocarbons                                              149\n",
       "gasoline_type_jet_fuel                                          146\n",
       "patent_fuel                                                     138\n",
       "direct_use_of_geothermal_heat                                   135\n",
       "gasworks_gas                                                    100\n",
       "direct_use_of_solar_thermal_heat                                 51\n",
       "total_refinery_output                                            50\n",
       "uranium                                                          27\n",
       "geothermal                                                       25\n",
       "thermal_electricity                                              25\n",
       "hydro                                                            25\n",
       "nuclear_electricity                                              25\n",
       "wind_electricity                                                 25\n",
       "solar_electricity                                                25\n",
       "peat                                                             24\n",
       "falling_water                                                    10\n",
       "Name: category, Length: 63, dtype: int64"
      ]
     },
     "execution_count": 21,
     "metadata": {},
     "output_type": "execute_result"
    }
   ],
   "source": [
    "df_US['category'].value_counts()"
   ]
  },
  {
   "cell_type": "code",
   "execution_count": 22,
   "metadata": {},
   "outputs": [
    {
     "data": {
      "text/plain": [
       "2013    949\n",
       "2012    946\n",
       "2014    921\n",
       "2009    884\n",
       "2011    873\n",
       "2005    871\n",
       "2010    870\n",
       "2007    866\n",
       "2008    861\n",
       "2006    859\n",
       "2004    854\n",
       "2003    833\n",
       "2002    811\n",
       "2000    763\n",
       "2001    762\n",
       "1999    761\n",
       "1997    730\n",
       "1998    720\n",
       "1996    714\n",
       "1995    713\n",
       "1993    697\n",
       "1994    680\n",
       "1992    655\n",
       "1991    628\n",
       "1990    626\n",
       "Name: year, dtype: int64"
      ]
     },
     "execution_count": 22,
     "metadata": {},
     "output_type": "execute_result"
    }
   ],
   "source": [
    "df_US['year'].value_counts()"
   ]
  },
  {
   "cell_type": "code",
   "execution_count": 24,
   "metadata": {},
   "outputs": [
    {
     "data": {
      "text/plain": [
       "2014    56264\n",
       "2013    56109\n",
       "2012    55838\n",
       "2011    55214\n",
       "2010    54544\n",
       "2008    53852\n",
       "2009    53769\n",
       "2007    52248\n",
       "2006    49397\n",
       "2005    49203\n",
       "2004    47723\n",
       "2003    46922\n",
       "2002    46520\n",
       "2001    45609\n",
       "2000    45220\n",
       "1999    44682\n",
       "1997    44579\n",
       "1998    44487\n",
       "1996    43550\n",
       "1995    43515\n",
       "1993    43112\n",
       "1994    42787\n",
       "1992    41753\n",
       "1990    36305\n",
       "1991    36280\n",
       "Name: year, dtype: int64"
      ]
     },
     "execution_count": 24,
     "metadata": {},
     "output_type": "execute_result"
    }
   ],
   "source": [
    "df['year'].value_counts()"
   ]
  },
  {
   "cell_type": "markdown",
   "metadata": {},
   "source": [
    "This means that the data can be evaluated with two things in mind: comparing the amount of production versus export and uses of the type of energy over the years. The data will have to be cleaned up since not all the countries have all the data for the years specified. Therefore the main thing now is to find a way to group aspects into one based on text, which can change. Finally I will have to separate USSR from the rest, since it gives quite an offset and therefore will hvae to be treated on its own. "
   ]
  },
  {
   "cell_type": "code",
   "execution_count": 37,
   "metadata": {
    "collapsed": true
   },
   "outputs": [],
   "source": [
    "import nltk"
   ]
  },
  {
   "cell_type": "code",
   "execution_count": null,
   "metadata": {
    "collapsed": true
   },
   "outputs": [],
   "source": []
  }
 ],
 "metadata": {
  "kernelspec": {
   "display_name": "Python 3",
   "language": "python",
   "name": "python3"
  },
  "language_info": {
   "codemirror_mode": {
    "name": "ipython",
    "version": 3
   },
   "file_extension": ".py",
   "mimetype": "text/x-python",
   "name": "python",
   "nbconvert_exporter": "python",
   "pygments_lexer": "ipython3",
   "version": "3.6.3"
  }
 },
 "nbformat": 4,
 "nbformat_minor": 2
}
